{
 "cells": [
  {
   "cell_type": "code",
   "execution_count": null,
   "id": "f3035a2a",
   "metadata": {},
   "outputs": [],
   "source": []
  },
  {
   "cell_type": "markdown",
   "id": "1978bd4b",
   "metadata": {},
   "source": [
    "# Julian <-> Normal Date ('14780' to '1940-06-18')"
   ]
  },
  {
   "cell_type": "code",
   "execution_count": 29,
   "id": "36d10f04",
   "metadata": {},
   "outputs": [],
   "source": [
    "df <- data.frame(Julian = c(14780, 14501, 12146))"
   ]
  },
  {
   "cell_type": "markdown",
   "id": "d72dd2fd",
   "metadata": {},
   "source": [
    "### Julian -> Normal Date"
   ]
  },
  {
   "cell_type": "code",
   "execution_count": 30,
   "id": "4ddb3cb9",
   "metadata": {},
   "outputs": [
    {
     "data": {
      "text/html": [
       "<table>\n",
       "<thead><tr><th scope=col>Julian</th><th scope=col>To_Date</th></tr></thead>\n",
       "<tbody>\n",
       "\t<tr><td>14780     </td><td>1940-06-18</td></tr>\n",
       "\t<tr><td>14501     </td><td>1939-09-13</td></tr>\n",
       "\t<tr><td>12146     </td><td>1933-04-02</td></tr>\n",
       "</tbody>\n",
       "</table>\n"
      ],
      "text/latex": [
       "\\begin{tabular}{r|ll}\n",
       " Julian & To\\_Date\\\\\n",
       "\\hline\n",
       "\t 14780      & 1940-06-18\\\\\n",
       "\t 14501      & 1939-09-13\\\\\n",
       "\t 12146      & 1933-04-02\\\\\n",
       "\\end{tabular}\n"
      ],
      "text/markdown": [
       "\n",
       "| Julian | To_Date |\n",
       "|---|---|\n",
       "| 14780      | 1940-06-18 |\n",
       "| 14501      | 1939-09-13 |\n",
       "| 12146      | 1933-04-02 |\n",
       "\n"
      ],
      "text/plain": [
       "  Julian To_Date   \n",
       "1 14780  1940-06-18\n",
       "2 14501  1939-09-13\n",
       "3 12146  1933-04-02"
      ]
     },
     "metadata": {},
     "output_type": "display_data"
    }
   ],
   "source": [
    "library(lubridate)\n",
    "\n",
    "# Define the function\n",
    "myfun <- function(x) as.POSIXct(x * (60*60*24),\n",
    "                                origin = \"1899-12-30\",\n",
    "                                tz = \"GMT\")\n",
    "\n",
    "# Select the columns to apply the function\n",
    "df['To_Date'] <- data.frame(lapply(df[c('Julian')], myfun))\n",
    "\n",
    "# Display\n",
    "df"
   ]
  },
  {
   "cell_type": "markdown",
   "id": "378c6b42",
   "metadata": {},
   "source": [
    "### Normal Date -> Julian"
   ]
  },
  {
   "cell_type": "code",
   "execution_count": 31,
   "id": "4a9c93a0",
   "metadata": {},
   "outputs": [
    {
     "data": {
      "text/html": [
       "<table>\n",
       "<thead><tr><th scope=col>Julian</th><th scope=col>To_Date</th><th scope=col>To_Julian</th></tr></thead>\n",
       "<tbody>\n",
       "\t<tr><td>14780     </td><td>1940-06-18</td><td>14780     </td></tr>\n",
       "\t<tr><td>14501     </td><td>1939-09-13</td><td>14501     </td></tr>\n",
       "\t<tr><td>12146     </td><td>1933-04-02</td><td>12146     </td></tr>\n",
       "</tbody>\n",
       "</table>\n"
      ],
      "text/latex": [
       "\\begin{tabular}{r|lll}\n",
       " Julian & To\\_Date & To\\_Julian\\\\\n",
       "\\hline\n",
       "\t 14780      & 1940-06-18 & 14780     \\\\\n",
       "\t 14501      & 1939-09-13 & 14501     \\\\\n",
       "\t 12146      & 1933-04-02 & 12146     \\\\\n",
       "\\end{tabular}\n"
      ],
      "text/markdown": [
       "\n",
       "| Julian | To_Date | To_Julian |\n",
       "|---|---|---|\n",
       "| 14780      | 1940-06-18 | 14780      |\n",
       "| 14501      | 1939-09-13 | 14501      |\n",
       "| 12146      | 1933-04-02 | 12146      |\n",
       "\n"
      ],
      "text/plain": [
       "  Julian To_Date    To_Julian\n",
       "1 14780  1940-06-18 14780    \n",
       "2 14501  1939-09-13 14501    \n",
       "3 12146  1933-04-02 12146    "
      ]
     },
     "metadata": {},
     "output_type": "display_data"
    }
   ],
   "source": [
    "df['To_Julian'] <- julian(as.Date(df$To_Date), origin = as.Date('1899-12-30'))\n",
    "\n",
    "# Display\n",
    "df"
   ]
  }
 ],
 "metadata": {
  "kernelspec": {
   "display_name": "R",
   "language": "R",
   "name": "ir"
  },
  "language_info": {
   "codemirror_mode": "r",
   "file_extension": ".r",
   "mimetype": "text/x-r-source",
   "name": "R",
   "pygments_lexer": "r",
   "version": "3.6.1"
  }
 },
 "nbformat": 4,
 "nbformat_minor": 5
}
