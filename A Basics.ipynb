{
 "cells": [
  {
   "cell_type": "markdown",
   "id": "1ee16aa8",
   "metadata": {},
   "source": [
    "# I/ Load Packages & files"
   ]
  },
  {
   "cell_type": "markdown",
   "id": "71ecdf9d",
   "metadata": {},
   "source": [
    "### I/ a. Load Packages"
   ]
  },
  {
   "cell_type": "code",
   "execution_count": 3,
   "id": "1a77778f",
   "metadata": {},
   "outputs": [],
   "source": [
    "# load & install packages \n",
    "\n",
    "for (i in c('dplyr','ggplot2')){\n",
    "  if (!require(i, character.only=TRUE)) \n",
    "  install.packages(i, repos = \"http://cran.us.r-project.org\")\n",
    "  require(i, character.only=TRUE)\n",
    "}"
   ]
  },
  {
   "cell_type": "markdown",
   "id": "216817d0",
   "metadata": {},
   "source": [
    "### I/ b. Load xlsx"
   ]
  },
  {
   "cell_type": "code",
   "execution_count": null,
   "id": "b5be54be",
   "metadata": {},
   "outputs": [],
   "source": [
    "readxl::read_excel(\"/Users/elinakelly/Documents/dad word cloud/survey responses.xlsx\", \n",
    "                   sheet = \"Top 3 issues\")"
   ]
  },
  {
   "cell_type": "markdown",
   "id": "b8311317",
   "metadata": {},
   "source": [
    "### I/ c. Load csv"
   ]
  },
  {
   "cell_type": "markdown",
   "id": "34e13c19",
   "metadata": {},
   "source": [
    "# II/ Modify the Dataframes"
   ]
  },
  {
   "cell_type": "code",
   "execution_count": 26,
   "id": "8219249b",
   "metadata": {},
   "outputs": [
    {
     "data": {
      "text/html": [
       "<table>\n",
       "<thead><tr><th scope=col>Animals</th><th scope=col>Food</th></tr></thead>\n",
       "<tbody>\n",
       "\t<tr><td>cat  </td><td>pizza</td></tr>\n",
       "\t<tr><td>dog  </td><td>ramen</td></tr>\n",
       "</tbody>\n",
       "</table>\n"
      ],
      "text/latex": [
       "\\begin{tabular}{r|ll}\n",
       " Animals & Food\\\\\n",
       "\\hline\n",
       "\t cat   & pizza\\\\\n",
       "\t dog   & ramen\\\\\n",
       "\\end{tabular}\n"
      ],
      "text/markdown": [
       "\n",
       "| Animals | Food |\n",
       "|---|---|\n",
       "| cat   | pizza |\n",
       "| dog   | ramen |\n",
       "\n"
      ],
      "text/plain": [
       "  Animals Food \n",
       "1 cat     pizza\n",
       "2 dog     ramen"
      ]
     },
     "metadata": {},
     "output_type": "display_data"
    }
   ],
   "source": [
    "# Sample df\n",
    "df <- data.frame(Animals = c('cat', 'dog'),\n",
    "                Food = c('pizza', 'ramen'))\n",
    "df"
   ]
  },
  {
   "cell_type": "markdown",
   "id": "5a8c7939",
   "metadata": {},
   "source": [
    "### Add Index column"
   ]
  },
  {
   "cell_type": "code",
   "execution_count": 29,
   "id": "a40dfe38",
   "metadata": {},
   "outputs": [
    {
     "data": {
      "text/html": [
       "<table>\n",
       "<thead><tr><th scope=col>Index_Col</th><th scope=col>Animals</th><th scope=col>Food</th></tr></thead>\n",
       "<tbody>\n",
       "\t<tr><td>1    </td><td>cat  </td><td>pizza</td></tr>\n",
       "\t<tr><td>2    </td><td>dog  </td><td>ramen</td></tr>\n",
       "</tbody>\n",
       "</table>\n"
      ],
      "text/latex": [
       "\\begin{tabular}{r|lll}\n",
       " Index\\_Col & Animals & Food\\\\\n",
       "\\hline\n",
       "\t 1     & cat   & pizza\\\\\n",
       "\t 2     & dog   & ramen\\\\\n",
       "\\end{tabular}\n"
      ],
      "text/markdown": [
       "\n",
       "| Index_Col | Animals | Food |\n",
       "|---|---|---|\n",
       "| 1     | cat   | pizza |\n",
       "| 2     | dog   | ramen |\n",
       "\n"
      ],
      "text/plain": [
       "  Index_Col Animals Food \n",
       "1 1         cat     pizza\n",
       "2 2         dog     ramen"
      ]
     },
     "metadata": {},
     "output_type": "display_data"
    }
   ],
   "source": [
    "tibble::rowid_to_column(df, \"Index_Col\")"
   ]
  },
  {
   "cell_type": "markdown",
   "id": "43765bf8",
   "metadata": {},
   "source": [
    "### Name / Rename Columns"
   ]
  },
  {
   "cell_type": "code",
   "execution_count": 23,
   "id": "6359deb0",
   "metadata": {},
   "outputs": [
    {
     "data": {
      "text/html": [
       "<table>\n",
       "<thead><tr><th scope=col>animal_renamed</th><th scope=col>food_renamed</th></tr></thead>\n",
       "<tbody>\n",
       "\t<tr><td>cat  </td><td>pizza</td></tr>\n",
       "\t<tr><td>dog  </td><td>ramen</td></tr>\n",
       "</tbody>\n",
       "</table>\n"
      ],
      "text/latex": [
       "\\begin{tabular}{r|ll}\n",
       " animal\\_renamed & food\\_renamed\\\\\n",
       "\\hline\n",
       "\t cat   & pizza\\\\\n",
       "\t dog   & ramen\\\\\n",
       "\\end{tabular}\n"
      ],
      "text/markdown": [
       "\n",
       "| animal_renamed | food_renamed |\n",
       "|---|---|\n",
       "| cat   | pizza |\n",
       "| dog   | ramen |\n",
       "\n"
      ],
      "text/plain": [
       "  animal_renamed food_renamed\n",
       "1 cat            pizza       \n",
       "2 dog            ramen       "
      ]
     },
     "metadata": {},
     "output_type": "display_data"
    }
   ],
   "source": [
    "colnames(df) <- c(\"animal_renamed\", \"food_renamed\")\n",
    "df"
   ]
  },
  {
   "cell_type": "markdown",
   "id": "e030e92e",
   "metadata": {},
   "source": [
    "### Rename Values"
   ]
  },
  {
   "cell_type": "code",
   "execution_count": 31,
   "id": "779b1657",
   "metadata": {},
   "outputs": [
    {
     "data": {
      "text/html": [
       "<table>\n",
       "<thead><tr><th scope=col>Animals</th><th scope=col>Food</th><th scope=col>NEW_NAME</th></tr></thead>\n",
       "<tbody>\n",
       "\t<tr><td>cat    </td><td>pizza  </td><td>PIZZA_R</td></tr>\n",
       "\t<tr><td>dog    </td><td>ramen  </td><td>RAMEN_R</td></tr>\n",
       "</tbody>\n",
       "</table>\n"
      ],
      "text/latex": [
       "\\begin{tabular}{r|lll}\n",
       " Animals & Food & NEW\\_NAME\\\\\n",
       "\\hline\n",
       "\t cat       & pizza     & PIZZA\\_R\\\\\n",
       "\t dog       & ramen     & RAMEN\\_R\\\\\n",
       "\\end{tabular}\n"
      ],
      "text/markdown": [
       "\n",
       "| Animals | Food | NEW_NAME |\n",
       "|---|---|---|\n",
       "| cat     | pizza   | PIZZA_R |\n",
       "| dog     | ramen   | RAMEN_R |\n",
       "\n"
      ],
      "text/plain": [
       "  Animals Food  NEW_NAME\n",
       "1 cat     pizza PIZZA_R \n",
       "2 dog     ramen RAMEN_R "
      ]
     },
     "metadata": {},
     "output_type": "display_data"
    }
   ],
   "source": [
    "df %>% mutate(NEW_NAME = recode(Food, \n",
    "                                   'pizza' = 'PIZZA_R', \n",
    "                                   'ramen' = 'RAMEN_R'))"
   ]
  },
  {
   "cell_type": "code",
   "execution_count": null,
   "id": "c0be60ba",
   "metadata": {},
   "outputs": [],
   "source": []
  }
 ],
 "metadata": {
  "kernelspec": {
   "display_name": "R",
   "language": "R",
   "name": "ir"
  },
  "language_info": {
   "codemirror_mode": "r",
   "file_extension": ".r",
   "mimetype": "text/x-r-source",
   "name": "R",
   "pygments_lexer": "r",
   "version": "3.6.1"
  }
 },
 "nbformat": 4,
 "nbformat_minor": 5
}
